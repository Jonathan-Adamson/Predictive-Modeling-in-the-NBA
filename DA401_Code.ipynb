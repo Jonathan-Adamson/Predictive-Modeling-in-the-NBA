{
  "nbformat": 4,
  "nbformat_minor": 0,
  "metadata": {
    "colab": {
      "provenance": [],
      "authorship_tag": "ABX9TyP+ysxbTyz784vA4nrxDCBm",
      "include_colab_link": true
    },
    "kernelspec": {
      "name": "python3",
      "display_name": "Python 3"
    },
    "language_info": {
      "name": "python"
    }
  },
  "cells": [
    {
      "cell_type": "markdown",
      "metadata": {
        "id": "view-in-github",
        "colab_type": "text"
      },
      "source": [
        "<a href=\"https://colab.research.google.com/github/Jonathan-Adamson/Predictive-Modeling-in-the-NBA/blob/main/DA401_Code.ipynb\" target=\"_parent\"><img src=\"https://colab.research.google.com/assets/colab-badge.svg\" alt=\"Open In Colab\"/></a>"
      ]
    },
    {
      "cell_type": "code",
      "execution_count": 1,
      "metadata": {
        "id": "muVJAWTLyqrd"
      },
      "outputs": [],
      "source": [
        "# Importing needed packages\n",
        "\n",
        "import pandas as pd\n",
        "import numpy as np"
      ]
    },
    {
      "cell_type": "code",
      "source": [
        "# Loading data\n",
        "\n",
        "filename = \"2021-2022 NBA Player Data.csv\"\n",
        "\n",
        "player_data_2021_2022 = pd.read_csv(filename)"
      ],
      "metadata": {
        "id": "lXqDNPjGy_QV"
      },
      "execution_count": 8,
      "outputs": []
    },
    {
      "cell_type": "code",
      "source": [
        "def add_year_column(df, year):\n",
        "    \"\"\"\n",
        "    Add a column named 'year' to the DataFrame with the specified year for every observation.\n",
        "\n",
        "    Parameters:\n",
        "    - df (DataFrame): DataFrame object.\n",
        "    - year (int): Year to be added to the DataFrame.\n",
        "\n",
        "    Returns:\n",
        "    - None: Modifies the DataFrame in place.\n",
        "    \"\"\"\n",
        "    # Add a new column named 'year' with the specified year\n",
        "    df['year'] = year"
      ],
      "metadata": {
        "id": "o3qYyHWazzdm"
      },
      "execution_count": 7,
      "outputs": []
    },
    {
      "cell_type": "code",
      "source": [
        "add_year_column(player_data_2021_2022, 2022)"
      ],
      "metadata": {
        "id": "A7hgdHcS0MXv"
      },
      "execution_count": 9,
      "outputs": []
    },
    {
      "cell_type": "code",
      "source": [
        "def inclusion_criteria(df):\n",
        "    \"\"\"\n",
        "    Filter the dataset based on the specified criteria:\n",
        "    - 'GS' needs to be greater than or equal to 25\n",
        "    - 'MP' needs to be greater than or equal to 15\n",
        "    - 'G' needs to be greater than or equal to 50\n",
        "\n",
        "    Parameters:\n",
        "    - df (DataFrame): DataFrame to be filtered.\n",
        "\n",
        "    Returns:\n",
        "    - filtered_df (DataFrame): Filtered DataFrame based on the criteria.\n",
        "    \"\"\"\n",
        "    filtered_df = df[(df['GS'] >= 25) & (df['MP'] >= 15) & (df['G'] >= 50)]\n",
        "    return filtered_df\n"
      ],
      "metadata": {
        "id": "s42M4pGT1S8m"
      },
      "execution_count": 11,
      "outputs": []
    },
    {
      "cell_type": "code",
      "source": [
        "inclusion_criteria(player_data_2021_2022)"
      ],
      "metadata": {
        "id": "yL_nOfT11aEP"
      },
      "execution_count": null,
      "outputs": []
    },
    {
      "cell_type": "code",
      "source": [
        "def add_all_nba_column(df, names_list):\n",
        "    \"\"\"\n",
        "    Add a new column named 'All_NBA' to the DataFrame based on whether the player's name is in the provided list.\n",
        "\n",
        "    Parameters:\n",
        "    - df (DataFrame): DataFrame to which the new column will be added.\n",
        "    - names_list (list): List of player names.\n",
        "\n",
        "    Returns:\n",
        "    - None: Modifies the DataFrame in place.\n",
        "    \"\"\"\n",
        "    # Create a new column 'All_NBA' and set default value to 'No'\n",
        "    df['All_NBA'] = 'No'\n",
        "\n",
        "    # Update 'All_NBA' column to 'Yes' for players in the names_list\n",
        "    df.loc[df['Player'].isin(names_list), 'All_NBA'] = 'Yes'"
      ],
      "metadata": {
        "id": "Gd2k8uvJ2GtK"
      },
      "execution_count": 14,
      "outputs": []
    },
    {
      "cell_type": "code",
      "source": [
        "All_NBA_2022 = [\"Giannis Antetokounmpo\", \"Devin Booker\", \"Luka Dončić\", \"Nikola Jokić\", \"Jayson Tatum\", \"Stephen Curry\",\n",
        "\"DeMar DeRozan\", \"Kevin Durant\", \"Joel Embiid\", \"Ja Morant\", \"LeBron James\", \"Chris Paul\", \"Pascal Siakam\", \"Karl-Anthony Towns\"\n",
        "\"Trae Young\"]"
      ],
      "metadata": {
        "id": "NDl01wOn2r6N"
      },
      "execution_count": 15,
      "outputs": []
    },
    {
      "cell_type": "code",
      "source": [
        "add_all_nba_column(player_data_2021_2022, All_NBA_2022)"
      ],
      "metadata": {
        "id": "D2Tp_sy03meu"
      },
      "execution_count": 16,
      "outputs": []
    },
    {
      "cell_type": "code",
      "source": [
        "player_data_2021_2022[player_data_2021_2022[\"Player\"] == 'Ja Morant']"
      ],
      "metadata": {
        "id": "MxvTOlTW3rG-"
      },
      "execution_count": null,
      "outputs": []
    }
  ]
}